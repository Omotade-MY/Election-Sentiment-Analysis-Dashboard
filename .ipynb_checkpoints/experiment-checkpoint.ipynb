{
 "cells": [
  {
   "cell_type": "code",
   "execution_count": 14,
   "metadata": {},
   "outputs": [],
   "source": [
    "import tweepy\n",
    "from config import BEARER_TOKEN\n",
    "import ast\n",
    "import json\n",
    "client = tweepy.Client(bearer_token= BEARER_TOKEN)\n"
   ]
  },
  {
   "cell_type": "code",
   "execution_count": 2,
   "metadata": {},
   "outputs": [],
   "source": [
    "bat_rule_1 = \"(Tinubu OR Asiwaju) lang:en\"\n",
    "bat_rule_2 = \"(#BAT2023 OR #ABAT2023) lang:en\"\n",
    "\n",
    "obi_query_1 = \"(#Obidients OR #Obidatti2023) lang:en\"\n",
    "obi_query_2 = \"(PeterObi OR ((Obidient OR Obidients) (LP OR Labour Party))) lang:en\"\n",
    "\n",
    "atk_query_1 = \"(#AtikuOkowa2023 OR #Atiku) lang:en\"\n",
    "atk_query_2 = \"Atiku lang:en\""
   ]
  },
  {
   "cell_type": "code",
   "execution_count": 7,
   "metadata": {},
   "outputs": [],
   "source": [
    "from kafka import KafkaProducer, KafkaConsumer\n",
    "from authenticate import BOOTSTRAP_SERVER, SERVER_API_KEY, SERVER_API_SECRET#, TOPIC\n",
    "TOPIC = \"NGA-election\"\n",
    "\n",
    "cloud_producer = KafkaProducer(bootstrap_servers = BOOTSTRAP_SERVER,\n",
    "                                security_protocol= \"SASL_SSL\",\n",
    "                                sasl_mechanism = \"PLAIN\",\n",
    "                                sasl_plain_username= SERVER_API_KEY,\n",
    "                                sasl_plain_password= SERVER_API_SECRET)\n",
    "\n",
    "                                 "
   ]
  },
  {
   "cell_type": "code",
   "execution_count": 21,
   "metadata": {},
   "outputs": [
    {
     "data": {
      "text/plain": [
       "<kafka.producer.future.FutureRecordMetadata at 0x1cd234903a0>"
      ]
     },
     "execution_count": 21,
     "metadata": {},
     "output_type": "execute_result"
    }
   ],
   "source": [
    "cloud_producer.send(TOPIC, b\"This is a third test message from python to kafka confluent\")\n",
    "\n"
   ]
  },
  {
   "cell_type": "code",
   "execution_count": 4,
   "metadata": {},
   "outputs": [],
   "source": [
    "\n",
    "TOPIC_NAME = \"twitter-bat\"\n",
    "KAFKA_SERVER = \"localhost:9092\"\n",
    "\n",
    "producer = KafkaProducer(bootstrap_servers=KAFKA_SERVER)\n",
    "\n",
    "#producer.send(TOPIC_NAME, b\"This is a test message from python to kafka\")\n",
    "\n"
   ]
  },
  {
   "cell_type": "code",
   "execution_count": 8,
   "metadata": {},
   "outputs": [
    {
     "name": "stdout",
     "output_type": "stream",
     "text": [
      "b'{\\n  \"name\": \"dinesh\",\\n  \"code\": \"dr-01\"\\n}'\n"
     ]
    }
   ],
   "source": [
    "import json\n",
    "\n",
    "user_dict = {'name': 'dinesh', 'code': 'dr-01'}\n",
    "user_encode_data = json.dumps(user_dict, indent=2).encode('utf-8')\n",
    "print(user_encode_data)"
   ]
  },
  {
   "cell_type": "code",
   "execution_count": 9,
   "metadata": {},
   "outputs": [],
   "source": [
    "\n",
    "def send_message(msg, topic=TOPIC):\n",
    "    send_message.called = True\n",
    "    cloud_producer.send(topic, msg)\n",
    "    cloud_producer.flush()\n",
    "\n",
    "\n",
    "def package_message(raw):\n",
    "    tweet_data = ast.literal_eval(raw.decode('UTF-8'))\n",
    "\n",
    "    tweet_dict = dict(tweet=tweet_data['data']['text'], tag=tweet_data['matching_rules'][0]['tag'])\n",
    "\n",
    "    return json.dumps(tweet_dict, indent=2).encode('utf-8')\n",
    "\n"
   ]
  },
  {
   "cell_type": "code",
   "execution_count": 15,
   "metadata": {},
   "outputs": [],
   "source": [
    "import time\n",
    "\n",
    "class MyStream(tweepy.StreamingClient):\n",
    "\n",
    "    def on_connect(self):\n",
    "        print(\"Connected to Stream!!!\\n ===================\")\n",
    "        \n",
    "\n",
    "    def on_data(self, raw_data):\n",
    "\n",
    "        message = package_message(raw_data)\n",
    "\n",
    "        send_message(message)\n",
    "        print(message)\n",
    "\n",
    "\n",
    "    def on_error(self, status_code):\n",
    "        if status_code == 420:\n",
    "            # returning False in on_data disconnects the stream\n",
    "            return False\n",
    "\n",
    "    def start_stream(self):\n",
    "        self.filter(tweet_fields=['referenced_tweets'])\n",
    "\n",
    "    def on_connection_error(self):\n",
    "        print(\"Could not connect to the Stream\")\n",
    "        return super().on_connection_error()\n",
    "\n",
    "stream = MyStream(BEARER_TOKEN)"
   ]
  },
  {
   "cell_type": "code",
   "execution_count": 16,
   "metadata": {},
   "outputs": [],
   "source": [
    "def delete_rules():\n",
    "    rules = stream.get_rules().data\n",
    "    rules_ids =[]\n",
    "    for rule in rules:\n",
    "        rules_ids.append(rule.id)\n",
    "\n",
    "    stream.delete_rules(rules_ids)\n",
    "\n",
    "def create_rules():\n",
    "    stream.add_rules(tweepy.StreamRule(bat_rule_1, tag=\"BAT\", ))\n",
    "    stream.add_rules(tweepy.StreamRule(obi_query_1, tag=\"OBI\"))\n",
    "    stream.add_rules(tweepy.StreamRule(atk_query_1, tag=\"ATK\"))\n",
    "    stream.add_rules(tweepy.StreamRule(bat_rule_2, tag=\"BAT\"))\n",
    "    stream.add_rules(tweepy.StreamRule(obi_query_2, tag=\"OBI\"))\n",
    "    stream.add_rules(tweepy.StreamRule(atk_query_2, tag=\"ATK\"))\n",
    "\n"
   ]
  },
  {
   "cell_type": "code",
   "execution_count": 52,
   "metadata": {},
   "outputs": [],
   "source": [
    "delete_rules()\n",
    "create_rules()"
   ]
  },
  {
   "cell_type": "code",
   "execution_count": 17,
   "metadata": {},
   "outputs": [
    {
     "name": "stderr",
     "output_type": "stream",
     "text": [
      "Stream encountered HTTP error: 401\n",
      "HTTP error response text: {\n",
      "  \"title\": \"Unauthorized\",\n",
      "  \"type\": \"about:blank\",\n",
      "  \"status\": 401,\n",
      "  \"detail\": \"Unauthorized\"\n",
      "}\n",
      "Stream encountered HTTP error: 401\n",
      "HTTP error response text: {\n",
      "  \"title\": \"Unauthorized\",\n",
      "  \"type\": \"about:blank\",\n",
      "  \"status\": 401,\n",
      "  \"detail\": \"Unauthorized\"\n",
      "}\n"
     ]
    },
    {
     "ename": "KeyboardInterrupt",
     "evalue": "",
     "output_type": "error",
     "traceback": [
      "\u001b[1;31m---------------------------------------------------------------------------\u001b[0m",
      "\u001b[1;31mKeyboardInterrupt\u001b[0m                         Traceback (most recent call last)",
      "Cell \u001b[1;32mIn [17], line 1\u001b[0m\n\u001b[1;32m----> 1\u001b[0m \u001b[43mstream\u001b[49m\u001b[38;5;241;43m.\u001b[39;49m\u001b[43mstart_stream\u001b[49m\u001b[43m(\u001b[49m\u001b[43m)\u001b[49m\n",
      "Cell \u001b[1;32mIn [15], line 23\u001b[0m, in \u001b[0;36mMyStream.start_stream\u001b[1;34m(self)\u001b[0m\n\u001b[0;32m     22\u001b[0m \u001b[38;5;28;01mdef\u001b[39;00m \u001b[38;5;21mstart_stream\u001b[39m(\u001b[38;5;28mself\u001b[39m):\n\u001b[1;32m---> 23\u001b[0m     \u001b[38;5;28;43mself\u001b[39;49m\u001b[38;5;241;43m.\u001b[39;49m\u001b[43mfilter\u001b[49m\u001b[43m(\u001b[49m\u001b[43mtweet_fields\u001b[49m\u001b[38;5;241;43m=\u001b[39;49m\u001b[43m[\u001b[49m\u001b[38;5;124;43m'\u001b[39;49m\u001b[38;5;124;43mreferenced_tweets\u001b[39;49m\u001b[38;5;124;43m'\u001b[39;49m\u001b[43m]\u001b[49m\u001b[43m)\u001b[49m\n",
      "File \u001b[1;32mc:\\Users\\USER\\anaconda3\\envs\\kafka-env\\lib\\site-packages\\tweepy\\streaming.py:791\u001b[0m, in \u001b[0;36mStreamingClient.filter\u001b[1;34m(self, threaded, **params)\u001b[0m\n\u001b[0;32m    789\u001b[0m     \u001b[39mreturn\u001b[39;00m \u001b[39mself\u001b[39m\u001b[39m.\u001b[39m_threaded_connect(method, endpoint, params\u001b[39m=\u001b[39mparams)\n\u001b[0;32m    790\u001b[0m \u001b[39melse\u001b[39;00m:\n\u001b[1;32m--> 791\u001b[0m     \u001b[39mself\u001b[39;49m\u001b[39m.\u001b[39;49m_connect(method, endpoint, params\u001b[39m=\u001b[39;49mparams)\n",
      "File \u001b[1;32mc:\\Users\\USER\\anaconda3\\envs\\kafka-env\\lib\\site-packages\\tweepy\\streaming.py:611\u001b[0m, in \u001b[0;36mStreamingClient._connect\u001b[1;34m(self, method, endpoint, **kwargs)\u001b[0m\n\u001b[0;32m    609\u001b[0m \u001b[39mself\u001b[39m\u001b[39m.\u001b[39msession\u001b[39m.\u001b[39mheaders[\u001b[39m\"\u001b[39m\u001b[39mAuthorization\u001b[39m\u001b[39m\"\u001b[39m] \u001b[39m=\u001b[39m \u001b[39mf\u001b[39m\u001b[39m\"\u001b[39m\u001b[39mBearer \u001b[39m\u001b[39m{\u001b[39;00m\u001b[39mself\u001b[39m\u001b[39m.\u001b[39mbearer_token\u001b[39m}\u001b[39;00m\u001b[39m\"\u001b[39m\n\u001b[0;32m    610\u001b[0m url \u001b[39m=\u001b[39m \u001b[39mf\u001b[39m\u001b[39m\"\u001b[39m\u001b[39mhttps://api.twitter.com/2/tweets/\u001b[39m\u001b[39m{\u001b[39;00mendpoint\u001b[39m}\u001b[39;00m\u001b[39m/stream\u001b[39m\u001b[39m\"\u001b[39m\n\u001b[1;32m--> 611\u001b[0m \u001b[39msuper\u001b[39m()\u001b[39m.\u001b[39m_connect(method, url, \u001b[39m*\u001b[39m\u001b[39m*\u001b[39mkwargs)\n",
      "File \u001b[1;32mc:\\Users\\USER\\anaconda3\\envs\\kafka-env\\lib\\site-packages\\tweepy\\streaming.py:117\u001b[0m, in \u001b[0;36mBaseStream._connect\u001b[1;34m(self, method, url, auth, params, headers, body)\u001b[0m\n\u001b[0;32m    114\u001b[0m     \u001b[39mif\u001b[39;00m http_error_wait \u001b[39m<\u001b[39m http_420_error_wait_start:\n\u001b[0;32m    115\u001b[0m         http_error_wait \u001b[39m=\u001b[39m http_420_error_wait_start\n\u001b[1;32m--> 117\u001b[0m sleep(http_error_wait)\n\u001b[0;32m    119\u001b[0m http_error_wait \u001b[39m*\u001b[39m\u001b[39m=\u001b[39m \u001b[39m2\u001b[39m\n\u001b[0;32m    120\u001b[0m \u001b[39mif\u001b[39;00m http_error_wait \u001b[39m>\u001b[39m http_error_wait_max:\n",
      "\u001b[1;31mKeyboardInterrupt\u001b[0m: "
     ]
    }
   ],
   "source": [
    "stream.start_stream()"
   ]
  },
  {
   "cell_type": "code",
   "execution_count": 14,
   "metadata": {},
   "outputs": [
    {
     "data": {
      "text/plain": [
       "0"
      ]
     },
     "execution_count": 14,
     "metadata": {},
     "output_type": "execute_result"
    }
   ],
   "source": [
    "producer.produce(\"NGA-election\", \"This is a new message from confluent kafka\")\n",
    "producer.flush()"
   ]
  },
  {
   "cell_type": "code",
   "execution_count": 15,
   "metadata": {},
   "outputs": [],
   "source": []
  }
 ],
 "metadata": {
  "kernelspec": {
   "display_name": "Python 3.10.4 ('kafka-env')",
   "language": "python",
   "name": "python3"
  },
  "language_info": {
   "codemirror_mode": {
    "name": "ipython",
    "version": 3
   },
   "file_extension": ".py",
   "mimetype": "text/x-python",
   "name": "python",
   "nbconvert_exporter": "python",
   "pygments_lexer": "ipython3",
   "version": "3.10.4"
  },
  "orig_nbformat": 4,
  "vscode": {
   "interpreter": {
    "hash": "797a15064095d326a92eae5fa76ec400ae8f9877c303b27afd064cedb67b59ae"
   }
  }
 },
 "nbformat": 4,
 "nbformat_minor": 2
}
