{
 "cells": [
  {
   "cell_type": "code",
   "execution_count": 2,
   "metadata": {},
   "outputs": [],
   "source": [
    "import tweepy\n",
    "import config\n",
    "import json\n",
    "client = tweepy.Client(bearer_token= config.BEARER_TOKEN)\n"
   ]
  },
  {
   "cell_type": "code",
   "execution_count": 3,
   "metadata": {},
   "outputs": [],
   "source": [
    "bat_rule_1 = \"(Tinubu OR Asiwaju) lang:en\"\n",
    "bat_rule_2 = \"(#BAT2023 OR #ABAT2023) lang:en\"\n",
    "\n",
    "obi_query_1 = \"(#Obidients OR #Obidatti2023) lang:en\"\n",
    "obi_query_2 = \"(PeterObi OR ((Obidient OR Obidients) (LP OR Labour Party))) lang:en\"\n",
    "\n",
    "atk_query_1 = \"(#AtikuOkowa2023 OR #Atiku) lang:en\"\n",
    "atk_query_2 = \"Atiku lang:en\"\n",
    "\n",
    "response = client.search_recent_tweets(query=bat_rule_1, max_results=20, tweet_fields=['created_at', \"conversation_id\"])"
   ]
  },
  {
   "cell_type": "code",
   "execution_count": 4,
   "metadata": {},
   "outputs": [],
   "source": [
    "from kafka import KafkaProducer, KafkaConsumer\n",
    "TOPIC_NAME = \"twitter-bat\"\n",
    "KAFKA_SERVER = \"localhost:9092\"\n",
    "\n",
    "producer = KafkaProducer(bootstrap_servers=KAFKA_SERVER)\n",
    "\n",
    "#producer.send(TOPIC_NAME, b\"This is a test message from python to kafka\")\n",
    "\n"
   ]
  },
  {
   "cell_type": "code",
   "execution_count": 5,
   "metadata": {},
   "outputs": [],
   "source": [
    "def send_message(msg):\n",
    "    send_message.called = True\n",
    "    producer.send(TOPIC_NAME, msg)\n",
    "    producer.flush()\n"
   ]
  },
  {
   "cell_type": "code",
   "execution_count": 6,
   "metadata": {},
   "outputs": [
    {
     "name": "stdout",
     "output_type": "stream",
     "text": [
      "Response(data=None, includes={}, errors=[{'value': '(Tinubu OR Asiwaju) lang:en', 'id': '1572216500127137792', 'title': 'DuplicateRule', 'type': 'https://api.twitter.com/2/problems/duplicate-rules'}], meta={'sent': '2022-09-20T13:36:55.924Z', 'summary': {'created': 0, 'not_created': 1, 'valid': 0, 'invalid': 1}})\n"
     ]
    },
    {
     "data": {
      "text/plain": [
       "'\\nprint(mystream.add_rules(tweepy.StreamRule(obi_query_1, tag=\"OBI\")))\\nprint(mystream.add_rules(tweepy.StreamRule(atk_query_1, tag=\"ATK\")))\\nprint(mystream.add_rules(tweepy.StreamRule(bat_rule_2, tag=\"BAT\")))\\nprint(mystream.add_rules(tweepy.StreamRule(obi_query_2, tag=\"OBI\")))\\nprint(mystream.add_rules(tweepy.StreamRule(atk_query_2, tag=\"ATK\"))) \\n\\n'"
      ]
     },
     "execution_count": 6,
     "metadata": {},
     "output_type": "execute_result"
    }
   ],
   "source": [
    "import time\n",
    "class MyStream(tweepy.StreamingClient):\n",
    "    def on_connect(self):\n",
    "        print(\"Connected to Stream!!!\\n ===== ===== ===== =====\")\n",
    "        return super().on_connect()\n",
    "\n",
    "    def on_tweet(self, tweet):\n",
    "        send_message.called = False\n",
    "        if tweet.referenced_tweets ==None:\n",
    "            msg = tweet.text\n",
    "            #tags = tweet.tags\n",
    "            msg_b = bytes(msg, \"utf-8\")\n",
    "            #print(tweet.text)\n",
    "            send_message(msg_b)\n",
    "            if send_message.called == True:\n",
    "                print(tweet)\n",
    "\n",
    "        time.sleep(1)\n",
    "    def on_data(self, raw_data):\n",
    "        #send_message(raw_sa)\n",
    "        #text = raw_data.text\n",
    "        #print(text)\n",
    "        global samp\n",
    "        samp = raw_data\n",
    "        print(raw_data)\n",
    "try:   \n",
    "    del mystream\n",
    "except NameError:\n",
    "    pass\n",
    "\n",
    "mystream = MyStream(config.BEARER_TOKEN)\n",
    "\n",
    "print(mystream.add_rules(tweepy.StreamRule(bat_rule_1, tag=\"BAT\")))\n",
    "\n",
    "#\"\"\"\n",
    "print(mystream.add_rules(tweepy.StreamRule(obi_query_1, tag=\"OBI\")))\n",
    "print(mystream.add_rules(tweepy.StreamRule(atk_query_1, tag=\"ATK\")))\n",
    "print(mystream.add_rules(tweepy.StreamRule(bat_rule_2, tag=\"BAT\")))\n",
    "print(mystream.add_rules(tweepy.StreamRule(obi_query_2, tag=\"OBI\")))\n",
    "print(mystream.add_rules(tweepy.StreamRule(atk_query_2, tag=\"ATK\"))) \n",
    "\n",
    "#\"\"\""
   ]
  },
  {
   "cell_type": "code",
   "execution_count": 7,
   "metadata": {},
   "outputs": [
    {
     "data": {
      "text/plain": [
       "Response(data=[StreamRule(value='#BAT2023 OR #ABAT2023 OR BAT OR Tinubu OR Asiwaju lang:en', tag=None, id='1571856099103457281'), StreamRule(value='#BAT2023 OR #ABAT2023 OR Tinubu OR Asiwaju lang:en', tag=None, id='1571891109516689408'), StreamRule(value='Tinubu OR Asiwaju lang:en', tag='#BAT2023', id='1572189129605005313'), StreamRule(value='Tinubu OR Asiwaju OR #BAT2023 lang:en', tag='#BAT2023', id='1572191076915576832'), StreamRule(value='Tinubu OR Asiwaju OR #BAT2023 OR #ABAT2023 lang:en', tag='#BAT2023', id='1572191320302653451'), StreamRule(value='#Obidients OR #Obidatti2023 OR PeterObi OR ((Obidient OR Obidients) (LP OR Labour Party)) lang:en', tag='#OBI', id='1572191655561760772'), StreamRule(value='#AtikuOkowa2023 OR #Atiku OR Atiku lang:en', tag='#ATK', id='1572191890010738688'), StreamRule(value='Tinubu OR Asiwaju OR (#BAT2023 OR #ABAT2023) lang:en', tag='#BAT', id='1572203178724048896'), StreamRule(value='#Obidients OR #Obidatti2023 lang:en', tag='#OBI', id='1572214318619320321'), StreamRule(value='#AtikuOkowa2023 OR #Atiku lang:en', tag='#ATK', id='1572214324940111874'), StreamRule(value='#BAT2023 OR #ABAT2023 lang:en', tag='#BAT', id='1572214330430480385'), StreamRule(value='PeterObi OR ((Obidient OR Obidients) (LP OR Labour Party)) lang:en', tag='#OBI', id='1572214336298401793'), StreamRule(value='Atiku lang:en', tag='#ATK', id='1572214341826498566'), StreamRule(value='Tinubu OR Asiwaju', tag='BAT', id='1572216024757403649'), StreamRule(value='(Tinubu OR Asiwaju) lang:en', tag='BAT', id='1572216500127137792')], includes={}, errors=[], meta={'sent': '2022-09-20T13:37:15.651Z', 'result_count': 15})"
      ]
     },
     "execution_count": 7,
     "metadata": {},
     "output_type": "execute_result"
    }
   ],
   "source": [
    "mystream.get_rules()"
   ]
  },
  {
   "cell_type": "code",
   "execution_count": 23,
   "metadata": {},
   "outputs": [
    {
     "data": {
      "text/plain": [
       "{'data': {'id': '1572215015939387394',\n",
       "  'referenced_tweets': [{'type': 'quoted', 'id': '1572202694827442177'}],\n",
       "  'text': 'I wonder what they used the grass they cut with 18 billion naira to do…\\nIf Buhari could be this corrupt now think for a second what a Tinubu presidency with his history of colossal stealing would do to our treasury https://t.co/5H7zOINpTE'},\n",
       " 'matching_rules': [{'id': '1571891109516689408', 'tag': ''},\n",
       "  {'id': '1572191320302653451', 'tag': '#BAT2023'},\n",
       "  {'id': '1572191076915576832', 'tag': '#BAT2023'},\n",
       "  {'id': '1571856099103457281', 'tag': ''},\n",
       "  {'id': '1572189129605005313', 'tag': '#BAT2023'},\n",
       "  {'id': '1572203178724048896', 'tag': '#BAT'}]}"
      ]
     },
     "execution_count": 23,
     "metadata": {},
     "output_type": "execute_result"
    }
   ],
   "source": [
    "\n",
    "import ast\n",
    "tweet_data = ast.literal_eval(samp.decode('UTF-8'))\n",
    "\n",
    "tweet_data"
   ]
  },
  {
   "cell_type": "code",
   "execution_count": 22,
   "metadata": {},
   "outputs": [
    {
     "name": "stdout",
     "output_type": "stream",
     "text": [
      "Connected to Stream!!!\n",
      " ===== ===== ===== =====\n",
      "b'{\"data\":{\"id\":\"1572215013443768321\",\"referenced_tweets\":[{\"type\":\"retweeted\",\"id\":\"1572144325932244994\"}],\"text\":\"RT @pastorcharlesc: A Thread:\\\\nAs promised...For every mention of @PeterObi by Rhino, we\\'ll reveal something the public never knew about him\\xe2\\x80\\xa6\"},\"matching_rules\":[{\"id\":\"1572191655561760772\",\"tag\":\"#OBI\"},{\"id\":\"1572214336298401793\",\"tag\":\"#OBI\"}]}'\n",
      "b'{\"data\":{\"id\":\"1572215015771459585\",\"referenced_tweets\":[{\"type\":\"replied_to\",\"id\":\"1571991490217271296\"}],\"text\":\"@Bolajuade @AlagbaSD They want to turn A\\xe1\\xb9\\xa3\\xc3\\xadw\\xc3\\xa1j\\xc3\\xba Tinubu to Rafiu Ladipo, Supporters club of Nigeria.\"},\"matching_rules\":[{\"id\":\"1571891109516689408\",\"tag\":\"\"},{\"id\":\"1572191320302653451\",\"tag\":\"#BAT2023\"},{\"id\":\"1572191076915576832\",\"tag\":\"#BAT2023\"},{\"id\":\"1571856099103457281\",\"tag\":\"\"},{\"id\":\"1572189129605005313\",\"tag\":\"#BAT2023\"},{\"id\":\"1572203178724048896\",\"tag\":\"#BAT\"}]}'\n",
      "b'{\"data\":{\"id\":\"1572215015939387394\",\"referenced_tweets\":[{\"type\":\"quoted\",\"id\":\"1572202694827442177\"}],\"text\":\"I wonder what they used the grass they cut with 18 billion naira to do\\xe2\\x80\\xa6\\\\nIf Buhari could be this corrupt now think for a second what a Tinubu presidency with his history of colossal stealing would do to our treasury https://t.co/5H7zOINpTE\"},\"matching_rules\":[{\"id\":\"1571891109516689408\",\"tag\":\"\"},{\"id\":\"1572191320302653451\",\"tag\":\"#BAT2023\"},{\"id\":\"1572191076915576832\",\"tag\":\"#BAT2023\"},{\"id\":\"1571856099103457281\",\"tag\":\"\"},{\"id\":\"1572189129605005313\",\"tag\":\"#BAT2023\"},{\"id\":\"1572203178724048896\",\"tag\":\"#BAT\"}]}'\n"
     ]
    },
    {
     "ename": "KeyboardInterrupt",
     "evalue": "",
     "output_type": "error",
     "traceback": [
      "\u001b[1;31m---------------------------------------------------------------------------\u001b[0m",
      "\u001b[1;31mKeyboardInterrupt\u001b[0m                         Traceback (most recent call last)",
      "Cell \u001b[1;32mIn [22], line 1\u001b[0m\n\u001b[1;32m----> 1\u001b[0m \u001b[43mmystream\u001b[49m\u001b[38;5;241;43m.\u001b[39;49m\u001b[43mfilter\u001b[49m\u001b[43m(\u001b[49m\u001b[43mtweet_fields\u001b[49m\u001b[38;5;241;43m=\u001b[39;49m\u001b[43m[\u001b[49m\u001b[38;5;124;43m'\u001b[39;49m\u001b[38;5;124;43mreferenced_tweets\u001b[39;49m\u001b[38;5;124;43m'\u001b[39;49m\u001b[43m]\u001b[49m\u001b[43m)\u001b[49m\n",
      "File \u001b[1;32mc:\\Users\\USER\\anaconda3\\envs\\kafka-env\\lib\\site-packages\\tweepy\\streaming.py:791\u001b[0m, in \u001b[0;36mStreamingClient.filter\u001b[1;34m(self, threaded, **params)\u001b[0m\n\u001b[0;32m    789\u001b[0m     \u001b[39mreturn\u001b[39;00m \u001b[39mself\u001b[39m\u001b[39m.\u001b[39m_threaded_connect(method, endpoint, params\u001b[39m=\u001b[39mparams)\n\u001b[0;32m    790\u001b[0m \u001b[39melse\u001b[39;00m:\n\u001b[1;32m--> 791\u001b[0m     \u001b[39mself\u001b[39;49m\u001b[39m.\u001b[39;49m_connect(method, endpoint, params\u001b[39m=\u001b[39;49mparams)\n",
      "File \u001b[1;32mc:\\Users\\USER\\anaconda3\\envs\\kafka-env\\lib\\site-packages\\tweepy\\streaming.py:611\u001b[0m, in \u001b[0;36mStreamingClient._connect\u001b[1;34m(self, method, endpoint, **kwargs)\u001b[0m\n\u001b[0;32m    609\u001b[0m \u001b[39mself\u001b[39m\u001b[39m.\u001b[39msession\u001b[39m.\u001b[39mheaders[\u001b[39m\"\u001b[39m\u001b[39mAuthorization\u001b[39m\u001b[39m\"\u001b[39m] \u001b[39m=\u001b[39m \u001b[39mf\u001b[39m\u001b[39m\"\u001b[39m\u001b[39mBearer \u001b[39m\u001b[39m{\u001b[39;00m\u001b[39mself\u001b[39m\u001b[39m.\u001b[39mbearer_token\u001b[39m}\u001b[39;00m\u001b[39m\"\u001b[39m\n\u001b[0;32m    610\u001b[0m url \u001b[39m=\u001b[39m \u001b[39mf\u001b[39m\u001b[39m\"\u001b[39m\u001b[39mhttps://api.twitter.com/2/tweets/\u001b[39m\u001b[39m{\u001b[39;00mendpoint\u001b[39m}\u001b[39;00m\u001b[39m/stream\u001b[39m\u001b[39m\"\u001b[39m\n\u001b[1;32m--> 611\u001b[0m \u001b[39msuper\u001b[39m()\u001b[39m.\u001b[39m_connect(method, url, \u001b[39m*\u001b[39m\u001b[39m*\u001b[39mkwargs)\n",
      "File \u001b[1;32mc:\\Users\\USER\\anaconda3\\envs\\kafka-env\\lib\\site-packages\\tweepy\\streaming.py:87\u001b[0m, in \u001b[0;36mBaseStream._connect\u001b[1;34m(self, method, url, auth, params, headers, body)\u001b[0m\n\u001b[0;32m     84\u001b[0m \u001b[39mif\u001b[39;00m \u001b[39mnot\u001b[39;00m \u001b[39mself\u001b[39m\u001b[39m.\u001b[39mrunning:\n\u001b[0;32m     85\u001b[0m     \u001b[39mbreak\u001b[39;00m\n\u001b[1;32m---> 87\u001b[0m \u001b[39mfor\u001b[39;00m line \u001b[39min\u001b[39;00m resp\u001b[39m.\u001b[39miter_lines(\n\u001b[0;32m     88\u001b[0m     chunk_size\u001b[39m=\u001b[39m\u001b[39mself\u001b[39m\u001b[39m.\u001b[39mchunk_size\n\u001b[0;32m     89\u001b[0m ):\n\u001b[0;32m     90\u001b[0m     \u001b[39mif\u001b[39;00m line:\n\u001b[0;32m     91\u001b[0m         \u001b[39mself\u001b[39m\u001b[39m.\u001b[39mon_data(line)\n",
      "File \u001b[1;32mc:\\Users\\USER\\anaconda3\\envs\\kafka-env\\lib\\site-packages\\requests\\models.py:865\u001b[0m, in \u001b[0;36mResponse.iter_lines\u001b[1;34m(self, chunk_size, decode_unicode, delimiter)\u001b[0m\n\u001b[0;32m    856\u001b[0m \u001b[39m\"\"\"Iterates over the response data, one line at a time.  When\u001b[39;00m\n\u001b[0;32m    857\u001b[0m \u001b[39mstream=True is set on the request, this avoids reading the\u001b[39;00m\n\u001b[0;32m    858\u001b[0m \u001b[39mcontent at once into memory for large responses.\u001b[39;00m\n\u001b[0;32m    859\u001b[0m \n\u001b[0;32m    860\u001b[0m \u001b[39m.. note:: This method is not reentrant safe.\u001b[39;00m\n\u001b[0;32m    861\u001b[0m \u001b[39m\"\"\"\u001b[39;00m\n\u001b[0;32m    863\u001b[0m pending \u001b[39m=\u001b[39m \u001b[39mNone\u001b[39;00m\n\u001b[1;32m--> 865\u001b[0m \u001b[39mfor\u001b[39;00m chunk \u001b[39min\u001b[39;00m \u001b[39mself\u001b[39m\u001b[39m.\u001b[39miter_content(\n\u001b[0;32m    866\u001b[0m     chunk_size\u001b[39m=\u001b[39mchunk_size, decode_unicode\u001b[39m=\u001b[39mdecode_unicode\n\u001b[0;32m    867\u001b[0m ):\n\u001b[0;32m    869\u001b[0m     \u001b[39mif\u001b[39;00m pending \u001b[39mis\u001b[39;00m \u001b[39mnot\u001b[39;00m \u001b[39mNone\u001b[39;00m:\n\u001b[0;32m    870\u001b[0m         chunk \u001b[39m=\u001b[39m pending \u001b[39m+\u001b[39m chunk\n",
      "File \u001b[1;32mc:\\Users\\USER\\anaconda3\\envs\\kafka-env\\lib\\site-packages\\requests\\models.py:816\u001b[0m, in \u001b[0;36mResponse.iter_content.<locals>.generate\u001b[1;34m()\u001b[0m\n\u001b[0;32m    814\u001b[0m \u001b[39mif\u001b[39;00m \u001b[39mhasattr\u001b[39m(\u001b[39mself\u001b[39m\u001b[39m.\u001b[39mraw, \u001b[39m\"\u001b[39m\u001b[39mstream\u001b[39m\u001b[39m\"\u001b[39m):\n\u001b[0;32m    815\u001b[0m     \u001b[39mtry\u001b[39;00m:\n\u001b[1;32m--> 816\u001b[0m         \u001b[39myield from\u001b[39;00m \u001b[39mself\u001b[39m\u001b[39m.\u001b[39mraw\u001b[39m.\u001b[39mstream(chunk_size, decode_content\u001b[39m=\u001b[39m\u001b[39mTrue\u001b[39;00m)\n\u001b[0;32m    817\u001b[0m     \u001b[39mexcept\u001b[39;00m ProtocolError \u001b[39mas\u001b[39;00m e:\n\u001b[0;32m    818\u001b[0m         \u001b[39mraise\u001b[39;00m ChunkedEncodingError(e)\n",
      "File \u001b[1;32mc:\\Users\\USER\\anaconda3\\envs\\kafka-env\\lib\\site-packages\\urllib3\\response.py:623\u001b[0m, in \u001b[0;36mHTTPResponse.stream\u001b[1;34m(self, amt, decode_content)\u001b[0m\n\u001b[0;32m    607\u001b[0m \u001b[39m\"\"\"\u001b[39;00m\n\u001b[0;32m    608\u001b[0m \u001b[39mA generator wrapper for the read() method. A call will block until\u001b[39;00m\n\u001b[0;32m    609\u001b[0m \u001b[39m``amt`` bytes have been read from the connection or until the\u001b[39;00m\n\u001b[1;32m   (...)\u001b[0m\n\u001b[0;32m    620\u001b[0m \u001b[39m    'content-encoding' header.\u001b[39;00m\n\u001b[0;32m    621\u001b[0m \u001b[39m\"\"\"\u001b[39;00m\n\u001b[0;32m    622\u001b[0m \u001b[39mif\u001b[39;00m \u001b[39mself\u001b[39m\u001b[39m.\u001b[39mchunked \u001b[39mand\u001b[39;00m \u001b[39mself\u001b[39m\u001b[39m.\u001b[39msupports_chunked_reads():\n\u001b[1;32m--> 623\u001b[0m     \u001b[39mfor\u001b[39;00m line \u001b[39min\u001b[39;00m \u001b[39mself\u001b[39m\u001b[39m.\u001b[39mread_chunked(amt, decode_content\u001b[39m=\u001b[39mdecode_content):\n\u001b[0;32m    624\u001b[0m         \u001b[39myield\u001b[39;00m line\n\u001b[0;32m    625\u001b[0m \u001b[39melse\u001b[39;00m:\n",
      "File \u001b[1;32mc:\\Users\\USER\\anaconda3\\envs\\kafka-env\\lib\\site-packages\\urllib3\\response.py:815\u001b[0m, in \u001b[0;36mHTTPResponse.read_chunked\u001b[1;34m(self, amt, decode_content)\u001b[0m\n\u001b[0;32m    812\u001b[0m     \u001b[39mreturn\u001b[39;00m\n\u001b[0;32m    814\u001b[0m \u001b[39mwhile\u001b[39;00m \u001b[39mTrue\u001b[39;00m:\n\u001b[1;32m--> 815\u001b[0m     \u001b[39mself\u001b[39;49m\u001b[39m.\u001b[39;49m_update_chunk_length()\n\u001b[0;32m    816\u001b[0m     \u001b[39mif\u001b[39;00m \u001b[39mself\u001b[39m\u001b[39m.\u001b[39mchunk_left \u001b[39m==\u001b[39m \u001b[39m0\u001b[39m:\n\u001b[0;32m    817\u001b[0m         \u001b[39mbreak\u001b[39;00m\n",
      "File \u001b[1;32mc:\\Users\\USER\\anaconda3\\envs\\kafka-env\\lib\\site-packages\\urllib3\\response.py:745\u001b[0m, in \u001b[0;36mHTTPResponse._update_chunk_length\u001b[1;34m(self)\u001b[0m\n\u001b[0;32m    743\u001b[0m \u001b[39mif\u001b[39;00m \u001b[39mself\u001b[39m\u001b[39m.\u001b[39mchunk_left \u001b[39mis\u001b[39;00m \u001b[39mnot\u001b[39;00m \u001b[39mNone\u001b[39;00m:\n\u001b[0;32m    744\u001b[0m     \u001b[39mreturn\u001b[39;00m\n\u001b[1;32m--> 745\u001b[0m line \u001b[39m=\u001b[39m \u001b[39mself\u001b[39;49m\u001b[39m.\u001b[39;49m_fp\u001b[39m.\u001b[39;49mfp\u001b[39m.\u001b[39;49mreadline()\n\u001b[0;32m    746\u001b[0m line \u001b[39m=\u001b[39m line\u001b[39m.\u001b[39msplit(\u001b[39mb\u001b[39m\u001b[39m\"\u001b[39m\u001b[39m;\u001b[39m\u001b[39m\"\u001b[39m, \u001b[39m1\u001b[39m)[\u001b[39m0\u001b[39m]\n\u001b[0;32m    747\u001b[0m \u001b[39mtry\u001b[39;00m:\n",
      "File \u001b[1;32mc:\\Users\\USER\\anaconda3\\envs\\kafka-env\\lib\\socket.py:705\u001b[0m, in \u001b[0;36mSocketIO.readinto\u001b[1;34m(self, b)\u001b[0m\n\u001b[0;32m    703\u001b[0m \u001b[39mwhile\u001b[39;00m \u001b[39mTrue\u001b[39;00m:\n\u001b[0;32m    704\u001b[0m     \u001b[39mtry\u001b[39;00m:\n\u001b[1;32m--> 705\u001b[0m         \u001b[39mreturn\u001b[39;00m \u001b[39mself\u001b[39;49m\u001b[39m.\u001b[39;49m_sock\u001b[39m.\u001b[39;49mrecv_into(b)\n\u001b[0;32m    706\u001b[0m     \u001b[39mexcept\u001b[39;00m timeout:\n\u001b[0;32m    707\u001b[0m         \u001b[39mself\u001b[39m\u001b[39m.\u001b[39m_timeout_occurred \u001b[39m=\u001b[39m \u001b[39mTrue\u001b[39;00m\n",
      "File \u001b[1;32mc:\\Users\\USER\\anaconda3\\envs\\kafka-env\\lib\\ssl.py:1273\u001b[0m, in \u001b[0;36mSSLSocket.recv_into\u001b[1;34m(self, buffer, nbytes, flags)\u001b[0m\n\u001b[0;32m   1269\u001b[0m     \u001b[39mif\u001b[39;00m flags \u001b[39m!=\u001b[39m \u001b[39m0\u001b[39m:\n\u001b[0;32m   1270\u001b[0m         \u001b[39mraise\u001b[39;00m \u001b[39mValueError\u001b[39;00m(\n\u001b[0;32m   1271\u001b[0m           \u001b[39m\"\u001b[39m\u001b[39mnon-zero flags not allowed in calls to recv_into() on \u001b[39m\u001b[39m%s\u001b[39;00m\u001b[39m\"\u001b[39m \u001b[39m%\u001b[39m\n\u001b[0;32m   1272\u001b[0m           \u001b[39mself\u001b[39m\u001b[39m.\u001b[39m\u001b[39m__class__\u001b[39m)\n\u001b[1;32m-> 1273\u001b[0m     \u001b[39mreturn\u001b[39;00m \u001b[39mself\u001b[39;49m\u001b[39m.\u001b[39;49mread(nbytes, buffer)\n\u001b[0;32m   1274\u001b[0m \u001b[39melse\u001b[39;00m:\n\u001b[0;32m   1275\u001b[0m     \u001b[39mreturn\u001b[39;00m \u001b[39msuper\u001b[39m()\u001b[39m.\u001b[39mrecv_into(buffer, nbytes, flags)\n",
      "File \u001b[1;32mc:\\Users\\USER\\anaconda3\\envs\\kafka-env\\lib\\ssl.py:1129\u001b[0m, in \u001b[0;36mSSLSocket.read\u001b[1;34m(self, len, buffer)\u001b[0m\n\u001b[0;32m   1127\u001b[0m \u001b[39mtry\u001b[39;00m:\n\u001b[0;32m   1128\u001b[0m     \u001b[39mif\u001b[39;00m buffer \u001b[39mis\u001b[39;00m \u001b[39mnot\u001b[39;00m \u001b[39mNone\u001b[39;00m:\n\u001b[1;32m-> 1129\u001b[0m         \u001b[39mreturn\u001b[39;00m \u001b[39mself\u001b[39;49m\u001b[39m.\u001b[39;49m_sslobj\u001b[39m.\u001b[39;49mread(\u001b[39mlen\u001b[39;49m, buffer)\n\u001b[0;32m   1130\u001b[0m     \u001b[39melse\u001b[39;00m:\n\u001b[0;32m   1131\u001b[0m         \u001b[39mreturn\u001b[39;00m \u001b[39mself\u001b[39m\u001b[39m.\u001b[39m_sslobj\u001b[39m.\u001b[39mread(\u001b[39mlen\u001b[39m)\n",
      "\u001b[1;31mKeyboardInterrupt\u001b[0m: "
     ]
    }
   ],
   "source": [
    "mystream.filter(tweet_fields=['referenced_tweets'])"
   ]
  },
  {
   "cell_type": "code",
   "execution_count": null,
   "metadata": {},
   "outputs": [],
   "source": [
    "#consumer = KafkaConsumer(TOPIC_NAME)\n",
    "\n",
    "#for message in consumer:\n",
    "#    print(message)"
   ]
  },
  {
   "cell_type": "code",
   "execution_count": 54,
   "metadata": {},
   "outputs": [
    {
     "data": {
      "text/plain": [
       "Response(data=[StreamRule(value='#BAT2023 OR #ABAT2023 OR BAT OR Tinubu OR Asiwaju lang:en', tag=None, id='1571856099103457281'), StreamRule(value='#BAT2023 OR #ABAT2023 OR Tinubu OR Asiwaju lang:en', tag=None, id='1571891109516689408'), StreamRule(value='Tinubu OR Asiwaju lang:en', tag='#BAT2023', id='1572189129605005313'), StreamRule(value='Tinubu OR Asiwaju OR #BAT2023 lang:en', tag='#BAT2023', id='1572191076915576832'), StreamRule(value='Tinubu OR Asiwaju OR #BAT2023 OR #ABAT2023 lang:en', tag='#BAT2023', id='1572191320302653451'), StreamRule(value='#Obidients OR #Obidatti2023 OR PeterObi OR ((Obidient OR Obidients) (LP OR Labour Party)) lang:en', tag='#OBI', id='1572191655561760772'), StreamRule(value='#AtikuOkowa2023 OR #Atiku OR Atiku lang:en', tag='#ATK', id='1572191890010738688')], includes={}, errors=[], meta={'sent': '2022-09-20T11:55:38.283Z', 'result_count': 7})"
      ]
     },
     "execution_count": 54,
     "metadata": {},
     "output_type": "execute_result"
    }
   ],
   "source": [
    "mystream.get_rules()"
   ]
  },
  {
   "cell_type": "code",
   "execution_count": null,
   "metadata": {},
   "outputs": [],
   "source": []
  }
 ],
 "metadata": {
  "kernelspec": {
   "display_name": "Python 3.10.4 ('kafka-env')",
   "language": "python",
   "name": "python3"
  },
  "language_info": {
   "codemirror_mode": {
    "name": "ipython",
    "version": 3
   },
   "file_extension": ".py",
   "mimetype": "text/x-python",
   "name": "python",
   "nbconvert_exporter": "python",
   "pygments_lexer": "ipython3",
   "version": "3.10.4"
  },
  "orig_nbformat": 4,
  "vscode": {
   "interpreter": {
    "hash": "797a15064095d326a92eae5fa76ec400ae8f9877c303b27afd064cedb67b59ae"
   }
  }
 },
 "nbformat": 4,
 "nbformat_minor": 2
}
